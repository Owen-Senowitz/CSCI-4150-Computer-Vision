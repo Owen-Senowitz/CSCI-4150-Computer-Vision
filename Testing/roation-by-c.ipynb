{
 "cells": [
  {
   "cell_type": "markdown",
   "metadata": {},
   "source": [
    "Rotation around an arbitrary center of rotation c can be done by applying a translation by an offset of −c, rotating by the desired angle, and then translating by an offset of +c.\n",
    "\n",
    "A point (-22.9,-1.8) is rotated counterclockwise by 1.95 radians about the point (5,-8). What is the new y-coordinate?"
   ]
  },
  {
   "cell_type": "code",
   "execution_count": 1,
   "metadata": {},
   "outputs": [
    {
     "data": {
      "text/plain": [
       "-36.21309720298593"
      ]
     },
     "execution_count": 1,
     "metadata": {},
     "output_type": "execute_result"
    }
   ],
   "source": [
    "import math\n",
    "\n",
    "# Step 1: Define the point, center of rotation, and the angle in radians\n",
    "x, y = -22.9, -1.8   # Original point\n",
    "cx, cy = 5, -8       # Center of rotation\n",
    "theta = 1.95         # Rotation angle in radians\n",
    "\n",
    "# Step 2: Translate the point by -c (center of rotation)\n",
    "x_prime = x - cx\n",
    "y_prime = y - cy\n",
    "\n",
    "# Step 3: Rotate the translated point by the angle\n",
    "x_double_prime = x_prime * math.cos(theta) - y_prime * math.sin(theta)\n",
    "y_double_prime = x_prime * math.sin(theta) + y_prime * math.cos(theta)\n",
    "\n",
    "# Step 4: Translate the rotated point back by +c\n",
    "new_y = y_double_prime + cy\n",
    "\n",
    "# Step 5: Display the new y-coordinate\n",
    "new_y\n"
   ]
  }
 ],
 "metadata": {
  "kernelspec": {
   "display_name": "compvis",
   "language": "python",
   "name": "python3"
  },
  "language_info": {
   "codemirror_mode": {
    "name": "ipython",
    "version": 3
   },
   "file_extension": ".py",
   "mimetype": "text/x-python",
   "name": "python",
   "nbconvert_exporter": "python",
   "pygments_lexer": "ipython3",
   "version": "3.12.4"
  }
 },
 "nbformat": 4,
 "nbformat_minor": 2
}
