{
 "cells": [
  {
   "cell_type": "markdown",
   "metadata": {},
   "source": [
    "A point (-8.9,2.6) is rotated about the origin by 2.34 radians in the counterclockwise direction. What is the x-value of the new coordinate?"
   ]
  },
  {
   "cell_type": "code",
   "execution_count": 1,
   "metadata": {},
   "outputs": [
    {
     "data": {
      "text/plain": [
       "4.3225051435401"
      ]
     },
     "execution_count": 1,
     "metadata": {},
     "output_type": "execute_result"
    }
   ],
   "source": [
    "import math\n",
    "\n",
    "# Step 1: Define the point and the angle in radians\n",
    "x, y = -8.9, 2.6\n",
    "theta = 2.34\n",
    "\n",
    "# Step 2: Calculate the new x-coordinate after the rotation\n",
    "new_x = x * math.cos(theta) - y * math.sin(theta)\n",
    "\n",
    "# Step 3: Display the new x-coordinate\n",
    "new_x\n"
   ]
  }
 ],
 "metadata": {
  "kernelspec": {
   "display_name": "compvis",
   "language": "python",
   "name": "python3"
  },
  "language_info": {
   "codemirror_mode": {
    "name": "ipython",
    "version": 3
   },
   "file_extension": ".py",
   "mimetype": "text/x-python",
   "name": "python",
   "nbconvert_exporter": "python",
   "pygments_lexer": "ipython3",
   "version": "3.12.4"
  }
 },
 "nbformat": 4,
 "nbformat_minor": 2
}
