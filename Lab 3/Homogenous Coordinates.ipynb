{
 "cells": [
  {
   "cell_type": "code",
   "execution_count": 1,
   "id": "0282937e",
   "metadata": {},
   "outputs": [],
   "source": [
    "import numpy as np"
   ]
  },
  {
   "cell_type": "code",
   "execution_count": 8,
   "id": "64f8b36d",
   "metadata": {},
   "outputs": [],
   "source": [
    "p = np.array([[7.2],\n",
    "              [-2.1],\n",
    "              [1]])\n",
    "\n",
    "T = np.array([[1,0,3.3],\n",
    "              [0,1,5.5],\n",
    "              [0,0,1]])\n",
    "\n",
    "R = np.array([[np.cos(.5),-np.sin(.5),0],\n",
    "              [np.sin(.5),np.cos(.5),0],\n",
    "              [0,0,1]])"
   ]
  },
  {
   "cell_type": "code",
   "execution_count": 9,
   "id": "d3731a86",
   "metadata": {},
   "outputs": [
    {
     "name": "stdout",
     "output_type": "stream",
     "text": [
      "[[7.32538808]\n",
      " [1.6089405 ]\n",
      " [1.        ]]\n"
     ]
    }
   ],
   "source": [
    "result = np.matmul(T,p)\n",
    "print(result)"
   ]
  },
  {
   "cell_type": "code",
   "execution_count": 10,
   "id": "822c82fe",
   "metadata": {},
   "outputs": [
    {
     "name": "stdout",
     "output_type": "stream",
     "text": [
      "[[7.32538808]\n",
      " [1.6089405 ]\n",
      " [1.        ]]\n"
     ]
    }
   ],
   "source": [
    "result = np.matmul(R,p)\n",
    "print(result)"
   ]
  },
  {
   "cell_type": "code",
   "execution_count": 15,
   "id": "3ac2020a",
   "metadata": {},
   "outputs": [
    {
     "name": "stdout",
     "output_type": "stream",
     "text": [
      "[[ 0.87758256 -0.47942554  0.25918199]\n",
      " [ 0.47942554  0.87758256  6.40880837]\n",
      " [ 0.          0.          1.        ]]\n"
     ]
    }
   ],
   "source": [
    "M1 = np.matmul(T,R) #Rotate then translate\n",
    "M2 = np.matmul(R,T) #Translate then Rotate\n",
    "\n",
    "print(M2)"
   ]
  },
  {
   "cell_type": "code",
   "execution_count": 12,
   "id": "f9799e16",
   "metadata": {},
   "outputs": [
    {
     "name": "stdout",
     "output_type": "stream",
     "text": [
      "[[10.62538808]\n",
      " [ 7.1089405 ]\n",
      " [ 1.        ]]\n"
     ]
    }
   ],
   "source": [
    "result = np.matmul(M1,p)\n",
    "print(result)"
   ]
  },
  {
   "cell_type": "markdown",
   "id": "0dbd39ff",
   "metadata": {},
   "source": []
  },
  {
   "cell_type": "code",
   "execution_count": 13,
   "id": "1c7bfd21",
   "metadata": {},
   "outputs": [
    {
     "name": "stdout",
     "output_type": "stream",
     "text": [
      "[[7.58457007]\n",
      " [8.01774887]\n",
      " [1.        ]]\n"
     ]
    }
   ],
   "source": [
    "result = np.matmul(M2,p)\n",
    "print(result)"
   ]
  },
  {
   "cell_type": "code",
   "execution_count": 16,
   "id": "6a33418c",
   "metadata": {},
   "outputs": [],
   "source": [
    "#new_center = (-1.7,4.0)\n",
    "\n",
    "Tc = np.array([[1,0,-1.7],\n",
    "              [0,1,4.0],\n",
    "              [0,0,1]])\n",
    "\n",
    "Tc_in = np.array([[1,0,1.7],\n",
    "              [0,1,-4.0],\n",
    "              [0,0,1]])\n",
    "\n",
    "# Rotation about a new center\n",
    "M3 = np.matmul(Tc,np.matmul(R,Tc_in))"
   ]
  },
  {
   "cell_type": "code",
   "execution_count": 17,
   "id": "a288e032",
   "metadata": {},
   "outputs": [
    {
     "name": "stdout",
     "output_type": "stream",
     "text": [
      "[[9.03498059]\n",
      " [2.91363367]\n",
      " [1.        ]]\n"
     ]
    }
   ],
   "source": [
    "result = np.matmul(M3,p)\n",
    "print(result)"
   ]
  }
 ],
 "metadata": {
  "kernelspec": {
   "display_name": "Python 3 (ipykernel)",
   "language": "python",
   "name": "python3"
  },
  "language_info": {
   "codemirror_mode": {
    "name": "ipython",
    "version": 3
   },
   "file_extension": ".py",
   "mimetype": "text/x-python",
   "name": "python",
   "nbconvert_exporter": "python",
   "pygments_lexer": "ipython3",
   "version": "3.10.12"
  }
 },
 "nbformat": 4,
 "nbformat_minor": 5
}
