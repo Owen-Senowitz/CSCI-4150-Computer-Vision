{
 "cells": [
  {
   "cell_type": "code",
   "execution_count": 6,
   "metadata": {},
   "outputs": [],
   "source": [
    "import math;"
   ]
  },
  {
   "cell_type": "code",
   "execution_count": 7,
   "metadata": {},
   "outputs": [],
   "source": [
    "# Step 2: Define the given points\n",
    "x1, y1 = -8.7, -0.9  # Point 1 on the line\n",
    "x2, y2 = 0.4, -9.8   # Point 2 on the line\n",
    "px, py = -2.6, 0.4   # Point we want to check"
   ]
  },
  {
   "cell_type": "code",
   "execution_count": 8,
   "metadata": {},
   "outputs": [],
   "source": [
    "# Step 3: Calculate A, B, and C for the line equation Ax + By + C = 0\n",
    "A = y2 - y1\n",
    "B = x1 - x2\n",
    "C = x2 * y1 - x1 * y2"
   ]
  },
  {
   "cell_type": "code",
   "execution_count": 9,
   "metadata": {},
   "outputs": [],
   "source": [
    "# Step 4: Calculate the distance from point (px, py) to the line\n",
    "distance = abs(A * px + B * py + C) / math.sqrt(A**2 + B**2)"
   ]
  },
  {
   "cell_type": "code",
   "execution_count": 10,
   "metadata": {},
   "outputs": [
    {
     "name": "stdout",
     "output_type": "stream",
     "text": [
      "5.194557177335602\n"
     ]
    }
   ],
   "source": [
    "print(distance)"
   ]
  }
 ],
 "metadata": {
  "kernelspec": {
   "display_name": "compvis",
   "language": "python",
   "name": "python3"
  },
  "language_info": {
   "codemirror_mode": {
    "name": "ipython",
    "version": 3
   },
   "file_extension": ".py",
   "mimetype": "text/x-python",
   "name": "python",
   "nbconvert_exporter": "python",
   "pygments_lexer": "ipython3",
   "version": "3.12.4"
  }
 },
 "nbformat": 4,
 "nbformat_minor": 2
}
