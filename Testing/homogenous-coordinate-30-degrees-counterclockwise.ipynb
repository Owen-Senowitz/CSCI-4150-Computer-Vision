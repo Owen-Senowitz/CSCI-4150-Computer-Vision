{
 "cells": [
  {
   "cell_type": "markdown",
   "metadata": {},
   "source": [
    "Which matrix rotates a homogenous coordinate about the origin by 30 degrees (counterclockwise)?"
   ]
  },
  {
   "cell_type": "code",
   "execution_count": 1,
   "metadata": {},
   "outputs": [
    {
     "data": {
      "text/plain": [
       "[[0.8660254037844387, -0.49999999999999994, 0],\n",
       " [0.49999999999999994, 0.8660254037844387, 0],\n",
       " [0, 0, 1]]"
      ]
     },
     "execution_count": 1,
     "metadata": {},
     "output_type": "execute_result"
    }
   ],
   "source": [
    "import math\n",
    "\n",
    "# Step 1: Define the angle in radians (30 degrees)\n",
    "theta = math.radians(30)\n",
    "\n",
    "# Step 2: Calculate the rotation matrix\n",
    "rotation_matrix = [\n",
    "    [math.cos(theta), -math.sin(theta), 0],\n",
    "    [math.sin(theta), math.cos(theta), 0],\n",
    "    [0, 0, 1]\n",
    "]\n",
    "\n",
    "# Step 3: Display the rotation matrix\n",
    "rotation_matrix"
   ]
  }
 ],
 "metadata": {
  "kernelspec": {
   "display_name": "compvis",
   "language": "python",
   "name": "python3"
  },
  "language_info": {
   "codemirror_mode": {
    "name": "ipython",
    "version": 3
   },
   "file_extension": ".py",
   "mimetype": "text/x-python",
   "name": "python",
   "nbconvert_exporter": "python",
   "pygments_lexer": "ipython3",
   "version": "3.12.4"
  }
 },
 "nbformat": 4,
 "nbformat_minor": 2
}
